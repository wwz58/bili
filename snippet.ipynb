{
 "cells": [
  {
   "cell_type": "code",
   "execution_count": 2,
   "metadata": {
    "pycharm": {
     "name": "#%%\n"
    }
   },
   "outputs": [
    {
     "name": "stdout",
     "output_type": "stream",
     "text": [
      "2005--09--12 00:00:00\n"
     ]
    }
   ],
   "source": [
    "import time\n",
    "timeStamp = 1126454400\n",
    "timeArray = time.localtime(timeStamp)\n",
    "otherStyleTime = time.strftime(\"%Y--%m--%d %H:%M:%S\", timeArray)\n",
    "print otherStyleTime \n"
   ]
  },
  {
   "cell_type": "code",
   "execution_count": 3,
   "metadata": {},
   "outputs": [],
   "source": [
    "import scrapy\n",
    "\n"
   ]
  },
  {
   "cell_type": "code",
   "execution_count": 1,
   "metadata": {},
   "outputs": [
    {
     "data": {
      "text/html": [
       "<div>\n",
       "<style scoped>\n",
       "    .dataframe tbody tr th:only-of-type {\n",
       "        vertical-align: middle;\n",
       "    }\n",
       "\n",
       "    .dataframe tbody tr th {\n",
       "        vertical-align: top;\n",
       "    }\n",
       "\n",
       "    .dataframe thead th {\n",
       "        text-align: right;\n",
       "    }\n",
       "</style>\n",
       "<table border=\"1\" class=\"dataframe\">\n",
       "  <thead>\n",
       "    <tr style=\"text-align: right;\">\n",
       "      <th></th>\n",
       "      <th>play</th>\n",
       "      <th>media_id</th>\n",
       "      <th>image_urls</th>\n",
       "      <th>season_id</th>\n",
       "      <th>images</th>\n",
       "      <th>link</th>\n",
       "      <th>num_short_comment</th>\n",
       "      <th>renewal_time</th>\n",
       "      <th>follow</th>\n",
       "      <th>pub_date</th>\n",
       "      <th>...</th>\n",
       "      <th>type</th>\n",
       "      <th>num_long_comment</th>\n",
       "      <th>summary</th>\n",
       "      <th>score</th>\n",
       "      <th>actors</th>\n",
       "      <th>pub_real_time</th>\n",
       "      <th>badge_type</th>\n",
       "      <th>index_show</th>\n",
       "      <th>badge</th>\n",
       "      <th>is_finish</th>\n",
       "    </tr>\n",
       "  </thead>\n",
       "  <tbody>\n",
       "    <tr>\n",
       "      <th>0</th>\n",
       "      <td>1.4亿次播放</td>\n",
       "      <td>3450</td>\n",
       "      <td>http://i0.hdslb.com/bfs/bangumi/14ba6643f22405...</td>\n",
       "      <td>3450</td>\n",
       "      <td>[{'url': 'http://i0.hdslb.com/bfs/bangumi/14ba...</td>\n",
       "      <td>https://www.bilibili.com/bangumi/play/ss3450</td>\n",
       "      <td>4917</td>\n",
       "      <td>1475935210</td>\n",
       "      <td>388.1万人追番</td>\n",
       "      <td>1460044800</td>\n",
       "      <td>...</td>\n",
       "      <td>follow</td>\n",
       "      <td>61</td>\n",
       "      <td>于日本县立学文高中之中，有一名叫坂本的全能高中生，平常总是用著各种超乎常理的无厘头行为来完成...</td>\n",
       "      <td>8.9分</td>\n",
       "      <td>坂本：绿川光\\n濑良裕也：森久保祥太郎\\n久保田吉伸：石田彰\\n黑沼爱菜：堀江由衣\\n882...</td>\n",
       "      <td>1460044800</td>\n",
       "      <td>NaN</td>\n",
       "      <td>全13话</td>\n",
       "      <td>NaN</td>\n",
       "      <td>1</td>\n",
       "    </tr>\n",
       "    <tr>\n",
       "      <th>1</th>\n",
       "      <td>1.1亿次播放</td>\n",
       "      <td>6339</td>\n",
       "      <td>http://i0.hdslb.com/bfs/bangumi/a79e331b7443ed...</td>\n",
       "      <td>6339</td>\n",
       "      <td>[{'url': 'http://i0.hdslb.com/bfs/bangumi/a79e...</td>\n",
       "      <td>https://www.bilibili.com/bangumi/play/ss6339</td>\n",
       "      <td>15529</td>\n",
       "      <td>1506531600</td>\n",
       "      <td>463.9万人追番</td>\n",
       "      <td>1499875200</td>\n",
       "      <td>...</td>\n",
       "      <td>follow</td>\n",
       "      <td>249</td>\n",
       "      <td>——真正的实力，平等究竟是什么？\\n几乎百分之百实现升学、就业目标的全国首屈一指的名门校──...</td>\n",
       "      <td>8.5分</td>\n",
       "      <td>堀北铃音：鬼頭明里\\n绫小路清隆：千葉翔也\\n佐仓爱里：M・A・O\\n栉田桔梗：久保ユリカ\\...</td>\n",
       "      <td>1499875200</td>\n",
       "      <td>NaN</td>\n",
       "      <td>全12话</td>\n",
       "      <td>NaN</td>\n",
       "      <td>1</td>\n",
       "    </tr>\n",
       "    <tr>\n",
       "      <th>2</th>\n",
       "      <td>1.7亿次播放</td>\n",
       "      <td>2576</td>\n",
       "      <td>http://i0.hdslb.com/bfs/bangumi/0e2c40ff5e9b6c...</td>\n",
       "      <td>2576</td>\n",
       "      <td>[{'url': 'http://i0.hdslb.com/bfs/bangumi/0e2c...</td>\n",
       "      <td>https://www.bilibili.com/bangumi/play/ss2576</td>\n",
       "      <td>6753</td>\n",
       "      <td>1443538800</td>\n",
       "      <td>297.7万人追番</td>\n",
       "      <td>1436198400</td>\n",
       "      <td>...</td>\n",
       "      <td>follow</td>\n",
       "      <td>65</td>\n",
       "      <td>作品主要讲述了某天，一款曾经掀起过大热潮的VRMMORPG「YGGDRASIL」停止了运营。...</td>\n",
       "      <td>9.6分</td>\n",
       "      <td>飞鼠：日野聪\\n雅儿贝德：原由实\\n夏提雅·布拉德弗伦：上坂堇\\n亚乌菈·贝拉·菲欧拉：加藤...</td>\n",
       "      <td>1436198400</td>\n",
       "      <td>NaN</td>\n",
       "      <td>全13话</td>\n",
       "      <td>NaN</td>\n",
       "      <td>1</td>\n",
       "    </tr>\n",
       "    <tr>\n",
       "      <th>3</th>\n",
       "      <td>6623.5万次播放</td>\n",
       "      <td>6312</td>\n",
       "      <td>http://i0.hdslb.com/bfs/bangumi/716297d3ec59a0...</td>\n",
       "      <td>6312</td>\n",
       "      <td>[{'url': 'http://i0.hdslb.com/bfs/bangumi/7162...</td>\n",
       "      <td>https://www.bilibili.com/bangumi/play/ss6312</td>\n",
       "      <td>7606</td>\n",
       "      <td>1505831400</td>\n",
       "      <td>308.2万人追番</td>\n",
       "      <td>1499097600</td>\n",
       "      <td>...</td>\n",
       "      <td>follow</td>\n",
       "      <td>90</td>\n",
       "      <td>故事讲述了青梅竹马之间、学生会长与不良少女之间、前辈与后辈之间、同学之间等多种不同角色的恋爱...</td>\n",
       "      <td>9.6分</td>\n",
       "      <td>菅原卓郎：石川界人\\n高野千鹤：水濑祈\\n刚田武：前野智昭\\n上根绫香：小仓唯\\n赤木正文：...</td>\n",
       "      <td>1499097600</td>\n",
       "      <td>NaN</td>\n",
       "      <td>全12话</td>\n",
       "      <td>NaN</td>\n",
       "      <td>1</td>\n",
       "    </tr>\n",
       "    <tr>\n",
       "      <th>4</th>\n",
       "      <td>6203.7万次播放</td>\n",
       "      <td>8892</td>\n",
       "      <td>http://i0.hdslb.com/bfs/bangumi/b6e3986355efc0...</td>\n",
       "      <td>21542</td>\n",
       "      <td>[{'url': 'http://i0.hdslb.com/bfs/bangumi/b6e3...</td>\n",
       "      <td>https://www.bilibili.com/bangumi/play/ss21542</td>\n",
       "      <td>53860</td>\n",
       "      <td>1538913600</td>\n",
       "      <td>425.5万人追番</td>\n",
       "      <td>1515600000</td>\n",
       "      <td>...</td>\n",
       "      <td>follow</td>\n",
       "      <td>1572</td>\n",
       "      <td>某个大陆的、某个时代。\\n大陆南北分割的战争结束了，世界走向了和平。\\n在战争中作为军人的薇...</td>\n",
       "      <td>9.7分</td>\n",
       "      <td>薇尔莉特•伊芙加登：石川由依\\n克劳迪亚·霍金斯： 子安武人\\n基尔伯特·布甘比利亚： 浪川...</td>\n",
       "      <td>1515600000</td>\n",
       "      <td>2.0</td>\n",
       "      <td>全14话</td>\n",
       "      <td>付费观看</td>\n",
       "      <td>1</td>\n",
       "    </tr>\n",
       "  </tbody>\n",
       "</table>\n",
       "<p>5 rows × 23 columns</p>\n",
       "</div>"
      ],
      "text/plain": [
       "         play  media_id                                         image_urls  \\\n",
       "0     1.4亿次播放      3450  http://i0.hdslb.com/bfs/bangumi/14ba6643f22405...   \n",
       "1     1.1亿次播放      6339  http://i0.hdslb.com/bfs/bangumi/a79e331b7443ed...   \n",
       "2     1.7亿次播放      2576  http://i0.hdslb.com/bfs/bangumi/0e2c40ff5e9b6c...   \n",
       "3  6623.5万次播放      6312  http://i0.hdslb.com/bfs/bangumi/716297d3ec59a0...   \n",
       "4  6203.7万次播放      8892  http://i0.hdslb.com/bfs/bangumi/b6e3986355efc0...   \n",
       "\n",
       "   season_id                                             images  \\\n",
       "0       3450  [{'url': 'http://i0.hdslb.com/bfs/bangumi/14ba...   \n",
       "1       6339  [{'url': 'http://i0.hdslb.com/bfs/bangumi/a79e...   \n",
       "2       2576  [{'url': 'http://i0.hdslb.com/bfs/bangumi/0e2c...   \n",
       "3       6312  [{'url': 'http://i0.hdslb.com/bfs/bangumi/7162...   \n",
       "4      21542  [{'url': 'http://i0.hdslb.com/bfs/bangumi/b6e3...   \n",
       "\n",
       "                                            link  num_short_comment  \\\n",
       "0   https://www.bilibili.com/bangumi/play/ss3450               4917   \n",
       "1   https://www.bilibili.com/bangumi/play/ss6339              15529   \n",
       "2   https://www.bilibili.com/bangumi/play/ss2576               6753   \n",
       "3   https://www.bilibili.com/bangumi/play/ss6312               7606   \n",
       "4  https://www.bilibili.com/bangumi/play/ss21542              53860   \n",
       "\n",
       "   renewal_time     follow    pub_date  ...    type num_long_comment  \\\n",
       "0    1475935210  388.1万人追番  1460044800  ...  follow               61   \n",
       "1    1506531600  463.9万人追番  1499875200  ...  follow              249   \n",
       "2    1443538800  297.7万人追番  1436198400  ...  follow               65   \n",
       "3    1505831400  308.2万人追番  1499097600  ...  follow               90   \n",
       "4    1538913600  425.5万人追番  1515600000  ...  follow             1572   \n",
       "\n",
       "                                             summary score  \\\n",
       "0  于日本县立学文高中之中，有一名叫坂本的全能高中生，平常总是用著各种超乎常理的无厘头行为来完成...  8.9分   \n",
       "1  ——真正的实力，平等究竟是什么？\\n几乎百分之百实现升学、就业目标的全国首屈一指的名门校──...  8.5分   \n",
       "2  作品主要讲述了某天，一款曾经掀起过大热潮的VRMMORPG「YGGDRASIL」停止了运营。...  9.6分   \n",
       "3  故事讲述了青梅竹马之间、学生会长与不良少女之间、前辈与后辈之间、同学之间等多种不同角色的恋爱...  9.6分   \n",
       "4  某个大陆的、某个时代。\\n大陆南北分割的战争结束了，世界走向了和平。\\n在战争中作为军人的薇...  9.7分   \n",
       "\n",
       "                                              actors pub_real_time badge_type  \\\n",
       "0  坂本：绿川光\\n濑良裕也：森久保祥太郎\\n久保田吉伸：石田彰\\n黑沼爱菜：堀江由衣\\n882...    1460044800        NaN   \n",
       "1  堀北铃音：鬼頭明里\\n绫小路清隆：千葉翔也\\n佐仓爱里：M・A・O\\n栉田桔梗：久保ユリカ\\...    1499875200        NaN   \n",
       "2  飞鼠：日野聪\\n雅儿贝德：原由实\\n夏提雅·布拉德弗伦：上坂堇\\n亚乌菈·贝拉·菲欧拉：加藤...    1436198400        NaN   \n",
       "3  菅原卓郎：石川界人\\n高野千鹤：水濑祈\\n刚田武：前野智昭\\n上根绫香：小仓唯\\n赤木正文：...    1499097600        NaN   \n",
       "4  薇尔莉特•伊芙加登：石川由依\\n克劳迪亚·霍金斯： 子安武人\\n基尔伯特·布甘比利亚： 浪川...    1515600000        2.0   \n",
       "\n",
       "  index_show  badge  is_finish  \n",
       "0       全13话    NaN          1  \n",
       "1       全12话    NaN          1  \n",
       "2       全13话    NaN          1  \n",
       "3       全12话    NaN          1  \n",
       "4       全14话   付费观看          1  \n",
       "\n",
       "[5 rows x 23 columns]"
      ]
     },
     "execution_count": 1,
     "metadata": {},
     "output_type": "execute_result"
    }
   ],
   "source": [
    "import pandas as pd\n",
    "df = pd.read_csv('./feeds/Anime/20190520.csv')\n",
    "df.head()"
   ]
  },
  {
   "cell_type": "code",
   "execution_count": 7,
   "metadata": {},
   "outputs": [
    {
     "data": {
      "text/plain": [
       "play                                                        1448.4万次播放\n",
       "media_id                                                        113652\n",
       "image_urls           http://i0.hdslb.com/bfs/bangumi/37dc0b5baef5cf...\n",
       "season_id                                                        24976\n",
       "images               [{'url': 'http://i0.hdslb.com/bfs/bangumi/37dc...\n",
       "time_show                                                          NaN\n",
       "num_short_comment                                                  642\n",
       "renewal_time                                                1530763223\n",
       "pub_date                                                    1530720000\n",
       "media_tags                                              古装,搞笑,奇幻,武侠,经典\n",
       "staff                                               导演：刘仕裕\\n编剧：张华标、朱镜祺\n",
       "title                                                          天地争霸美猴王\n",
       "type                                                              play\n",
       "num_long_comment                                                     8\n",
       "summary              唐僧师徒四人又继续上路了，然而这日唐僧（江华 饰）发了一个噩梦，梦中故乡长安城经历了一场浩劫...\n",
       "score                                                             9.7分\n",
       "actors                                                  陈浩民、江华、黎耀祥、麦长青\n",
       "pub_real_time                                               1530720000\n",
       "badge_type                                                         NaN\n",
       "link                     https://www.bilibili.com/bangumi/play/ss24976\n",
       "index_show                                                        全40集\n",
       "badge                                                              NaN\n",
       "is_finish                                                            1\n",
       "Name: 0, dtype: object"
      ]
     },
     "execution_count": 7,
     "metadata": {},
     "output_type": "execute_result"
    }
   ],
   "source": [
    "df.loc[0]"
   ]
  },
  {
   "cell_type": "code",
   "execution_count": 8,
   "metadata": {},
   "outputs": [
    {
     "data": {
      "text/plain": [
       "play                  object\n",
       "media_id               int64\n",
       "image_urls            object\n",
       "season_id              int64\n",
       "images                object\n",
       "time_show            float64\n",
       "num_short_comment      int64\n",
       "renewal_time           int64\n",
       "pub_date               int64\n",
       "media_tags            object\n",
       "staff                 object\n",
       "title                 object\n",
       "type                  object\n",
       "num_long_comment       int64\n",
       "summary               object\n",
       "score                 object\n",
       "actors                object\n",
       "pub_real_time          int64\n",
       "badge_type           float64\n",
       "link                  object\n",
       "index_show            object\n",
       "badge                float64\n",
       "is_finish              int64\n",
       "dtype: object"
      ]
     },
     "execution_count": 8,
     "metadata": {},
     "output_type": "execute_result"
    }
   ],
   "source": [
    "df.dtypes\n"
   ]
  },
  {
   "cell_type": "code",
   "execution_count": 13,
   "metadata": {},
   "outputs": [
    {
     "name": "stdout",
     "output_type": "stream",
     "text": [
      "坂本&绿川光##濑良裕也&森久保祥太郎##久保田吉伸&石田彰##黑沼爱菜&堀江由衣##8823&游佐浩二##久保田茂美&鲸（松本和香子）##藤田惠&中原麻衣##深濑&岩田光央##Kenken&桧山修之##Mario..\n",
      "坂本#濑良裕也#久保田吉伸#黑沼爱菜#8823#久保田茂美#藤田惠#深濑#Kenken#Mario..\n"
     ]
    }
   ],
   "source": [
    "pairs = []\n",
    "for pair in df.loc[0,'actors'].decode('utf8').split(r'\\n') :\n",
    "    pairs.append('&'.join( pair.split('：')))\n",
    "print '##'.join(pairs)    \n",
    "print '#'.join([pair.split('：')[0] for pair in  df.loc[0,'actors'].decode('utf8').split(r'\\n') ])"
   ]
  },
  {
   "cell_type": "code",
   "execution_count": 7,
   "metadata": {},
   "outputs": [],
   "source": [
    "from __future__ import unicode_literals\n",
    "from __future__ import division"
   ]
  },
  {
   "cell_type": "code",
   "execution_count": null,
   "metadata": {},
   "outputs": [],
   "source": []
  }
 ],
 "metadata": {
  "kernelspec": {
   "display_name": "Python 2",
   "language": "python",
   "name": "python2"
  },
  "language_info": {
   "codemirror_mode": {
    "name": "ipython",
    "version": 2
   },
   "file_extension": ".py",
   "mimetype": "text/x-python",
   "name": "python",
   "nbconvert_exporter": "python",
   "pygments_lexer": "ipython2",
   "version": "2.7.15rc1"
  },
  "pycharm": {
   "stem_cell": {
    "cell_type": "raw",
    "metadata": {
     "collapsed": false
    },
    "source": []
   }
  }
 },
 "nbformat": 4,
 "nbformat_minor": 1
}
